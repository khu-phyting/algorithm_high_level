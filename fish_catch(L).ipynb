{
 "cells": [
  {
   "cell_type": "code",
   "execution_count": 11,
   "metadata": {},
   "outputs": [
    {
     "name": "stdout",
     "output_type": "stream",
     "text": [
      "연못사이즈를 입력해주세요 가로, 세로(1~100)2 6\n",
      "그물의 사이즈를 입력해주세요 가로, 세로(연못사이즈)1 3\n",
      "2 6 1 3\n",
      "[[5. 6. 1. 2. 1. 6.]\n",
      " [2. 1. 6. 1. 1. 7.]]\n",
      "12.0\n"
     ]
    }
   ],
   "source": [
    "'''사이즈의 연못이 있고 p,q 사이즈의 그물이있다. 우리나라 최고의 어부 정올이가 이번에 네모네모 배 고기잡이 대회에 참가한다.\n",
    "  이 대회에는 3개의 라운드가 있는데, 두 번째 라운드는 2차원 형태로 표현될 수 있는 작은 연못에서 길쭉한 그물을 던져서 최대한 많은 고기를 잡는 것이 목적이다.\n",
    "  1라운드의 예를 들면 연못의 크기가 1*6이고 물고기의 위치와 가치가 다음과 같다 고 하자. 1 0 2 0 4 3  여기서 그물의 크기는 1*3이라고 할 때, 잡을 수 있는 방법은 (1 0 2), (0 2 0), (2 0 4), (0 4 3)의 4가지 방법이 있다.\n",
    "  이 중 가장 이득을 보는 방법은 마지막 방법 0 + 4 + 3 = 7이다. 따라서 주어진 경우의 최대 이득은 7이 된다. 정올이는 최대한 가치가 큰 물고기를 잡아서 우승하 고 싶어 한다.\n",
    "  연못의 폭과 각 칸에 있는 물고기의 가치, 그물의 가로의 길이가 주어질 때, 잡을 수 있는 물고기의 최대이득을 구하는 프로그램을 작성하시오.\n",
    "입력  첫 번째 줄에 연못의 폭 N, M이 입력된다. ( N, M <= 100 인 자연수 )  두 번째 줄에 그물의 폭 W, H가 입력된다. ( W <= N, H <= M 인 자연수 )  세 번째 줄에 N*M개의 물고기의 가치가 공백으로 구분되어 주어진다. 각 물고기 의 가치는 7 이하의 자연수이다. 0일 경우에는 물고기가 없다는 의미이다.\n",
    "\n",
    "출력  잡을 수 있는 물고기의 최대 가치를 출력한다. 입력 예 출력 예 2 6 1 3 1 0\n",
    "                                                                  2 0 4 3 3 4          7\n",
    "'''\n",
    "\n",
    "\n",
    "import numpy as np\n",
    "from random import randint\n",
    "pond_size_n, pond_size_m = input('연못사이즈를 입력해주세요 가로, 세로(1~100)').split()\n",
    "net_size_n, net_size_m = input(\"그물의 사이즈를 입력해주세요 가로, 세로(연못사이즈)\").split()\n",
    "print(pond_size_n, pond_size_m, net_size_n, net_size_m)\n",
    "p_n = int(pond_size_n)\n",
    "p_m = int(pond_size_m)\n",
    "n_n = int(net_size_n)\n",
    "n_m = int(net_size_m)\n",
    "\n",
    "fish_value = [p_n*p_m]\n",
    "y = np.empty((p_n,p_m)) #n,m 어장 크기 만들기\n",
    "\n",
    "for i in range(p_n):\n",
    "    for j in range(p_m) :\n",
    "        y[i][j] = randint(0,7)\n",
    "print(y)\n",
    "total = 0\n",
    "sum = 0\n",
    "for a in range(p_n):\n",
    "    for t in range(p_m-(n_m-1)):\n",
    "        for v in range(n_m):\n",
    "            sum = sum + y[a][(t+v)]\n",
    "        if(sum >= total) :\n",
    "            total = sum\n",
    "            sum = 0\n",
    "        else:\n",
    "            sum = 0\n",
    "print(total)\n"
   ]
  },
  {
   "cell_type": "code",
   "execution_count": null,
   "metadata": {},
   "outputs": [],
   "source": []
  }
 ],
 "metadata": {
  "kernelspec": {
   "display_name": "Python 3",
   "language": "python",
   "name": "python3"
  },
  "language_info": {
   "codemirror_mode": {
    "name": "ipython",
    "version": 3
   },
   "file_extension": ".py",
   "mimetype": "text/x-python",
   "name": "python",
   "nbconvert_exporter": "python",
   "pygments_lexer": "ipython3",
   "version": "3.7.3"
  }
 },
 "nbformat": 4,
 "nbformat_minor": 2
}
