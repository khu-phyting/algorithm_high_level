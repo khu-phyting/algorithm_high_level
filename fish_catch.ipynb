{
 "cells": [
  {
   "cell_type": "code",
   "execution_count": 2,
   "metadata": {},
   "outputs": [
    {
     "name": "stdout",
     "output_type": "stream",
     "text": [
      "안녕\n"
     ]
    }
   ],
   "source": [
    "print(\"안녕\") "
   ]
  },
  {
   "cell_type": "code",
   "execution_count": 17,
   "metadata": {},
   "outputs": [
    {
     "name": "stdout",
     "output_type": "stream",
     "text": [
      "연못사이즈를 입력해주세요(1~100)6\n",
      "그물의 사이즈를 입력해주세요(<=pond_size)3\n",
      "6 3\n",
      "[6, 1, 7, 2, 1, 2, 5]\n",
      "14\n"
     ]
    }
   ],
   "source": [
    "\n",
    "from random import randint\n",
    "pond_size = int(input(\"연못사이즈를 입력해주세요(1~100)\"))\n",
    "net_size = int(input(\"그물의 사이즈를 입력해주세요(<=pond_size)\"))\n",
    "print(pond_size, net_size)\n",
    "fish_value = [pond_size]\n",
    "for i in range(pond_size) :\n",
    "    fish_value.append(randint(0,7))\n",
    "print(fish_value)\n",
    "\n",
    "total = 0\n",
    "sum = 0\n",
    "for t in range(pond_size-(net_size-1)):\n",
    "    for v in range(net_size):\n",
    "        sum = sum + fish_value[(t+v)]\n",
    "    if(sum >= total) :\n",
    "        total = sum\n",
    "        sum = 0\n",
    "    else:\n",
    "        sum = 0\n",
    "print(total)"
   ]
  },
  {
   "cell_type": "code",
   "execution_count": null,
   "metadata": {},
   "outputs": [],
   "source": []
  }
 ],
 "metadata": {
  "kernelspec": {
   "display_name": "Python 3",
   "language": "python",
   "name": "python3"
  },
  "language_info": {
   "codemirror_mode": {
    "name": "ipython",
    "version": 3
   },
   "file_extension": ".py",
   "mimetype": "text/x-python",
   "name": "python",
   "nbconvert_exporter": "python",
   "pygments_lexer": "ipython3",
   "version": "3.7.3"
  }
 },
 "nbformat": 4,
 "nbformat_minor": 2
}
